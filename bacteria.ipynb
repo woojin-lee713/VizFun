{
  "metadata": {
    "kernelspec": {
      "display_name": "ml1-arm64",
      "language": "python",
      "name": "ml1-arm64"
    },
    "language_info": {
      "codemirror_mode": {
        "name": "ipython",
        "version": 3
      },
      "file_extension": ".py",
      "mimetype": "text/x-python",
      "name": "python",
      "nbconvert_exporter": "python",
      "pygments_lexer": "ipython3",
      "version": "3.9.1"
    }
  },
  "nbformat": 4,
  "nbformat_minor": 4,
  "cells": [
    {
      "cell_type": "code",
      "execution_count": 1,
      "metadata": {},
      "outputs": [],
      "source": [
        "%matplotlib inline \n",
        "#this line above prepares IPython notebook for working with matplotlib\n",
        "\n",
        "\n",
        "import numpy as np # imports a fast numerical programming library\n",
        "import scipy as sp #imports stats functions, amongst other things\n",
        "import matplotlib as mpl # this actually imports matplotlib\n",
        "import matplotlib.cm as cm #allows us easy access to colormaps\n",
        "import matplotlib.pyplot as plt #sets up plotting under plt\n",
        "import pandas as pd #lets us handle data as dataframes\n"
      ]
    },
    {
      "cell_type": "markdown",
      "metadata": {},
      "source": [
        "## Bacteria Dataset\n",
        "\n",
        "This is a dataset of Bacteria, and the medicine that is most effective in neutralizing the bacteria. Lets load it into a dataframe."
      ]
    },
    {
      "cell_type": "code",
      "execution_count": 31,
      "metadata": {},
      "outputs": [],
      "source": [
        "antibiotics = [\n",
        "  { \"bacteria\": \"Mycobacterium tuberculosis\", \"genus\": \"Other\", \"penicillin\": 800, \"streptomycin\": 5, \"neomycin\": 2, \"gram\": \"negative\" },\n",
        "  { \"bacteria\": \"Salmonella schottmuelleri\", \"genus\": \"Salmonella\", \"penicillin\": 10, \"streptomycin\": 0.8, \"neomycin\": 0.09, \"gram\": \"negative\" },\n",
        "  { \"bacteria\": \"Proteus vulgaris\", \"genus\": \"Other\", \"penicillin\": 3, \"streptomycin\": 0.1, \"neomycin\": 0.1, \"gram\": \"negative\" },\n",
        "  { \"bacteria\": \"Klebsiella pneumoniae\", \"genus\": \"Other\", \"penicillin\": 850, \"streptomycin\": 1.2, \"neomycin\": 1, \"gram\": \"negative\" },\n",
        "  { \"bacteria\": \"Brucella abortus\", \"genus\": \"Other\", \"penicillin\": 1, \"streptomycin\": 2, \"neomycin\": 0.02, \"gram\": \"negative\" },\n",
        "  { \"bacteria\": \"Pseudomonas aeruginosa\", \"genus\": \"Other\", \"penicillin\": 850, \"streptomycin\": 2, \"neomycin\": 0.4, \"gram\": \"negative\" },\n",
        "  { \"bacteria\": \"Escherichia coli\", \"genus\": \"Other\", \"penicillin\": 100, \"streptomycin\": 0.4, \"neomycin\": 0.1, \"gram\": \"negative\" },\n",
        "  { \"bacteria\": \"Salmonella (Eberthella) typhosa\", \"genus\": \"Salmonella\", \"penicillin\": 1, \"streptomycin\": 0.4, \"neomycin\": 0.008, \"gram\": \"negative\" },\n",
        "  { \"bacteria\": \"Aerobacter aerogenes\", \"genus\": \"Other\", \"penicillin\": 870, \"streptomycin\": 1, \"neomycin\": 1.6, \"gram\": \"negative\" },\n",
        "  { \"bacteria\": \"Brucella antracis\", \"genus\": \"Other\", \"penicillin\": 0.001, \"streptomycin\": 0.01, \"neomycin\": 0.007, \"gram\": \"positive\" },\n",
        "  { \"bacteria\": \"Streptococcus fecalis\", \"genus\": \"Streptococcus\", \"penicillin\": 1, \"streptomycin\": 1, \"neomycin\": 0.1, \"gram\": \"positive\" },\n",
        "  { \"bacteria\": \"Staphylococcus aureus\", \"genus\": \"Staphylococcus\", \"penicillin\": 0.03, \"streptomycin\": 0.03, \"neomycin\": 0.001, \"gram\": \"positive\" },\n",
        "  { \"bacteria\": \"Staphylococcus albus\", \"genus\": \"Staphylococcus\", \"penicillin\": 0.007, \"streptomycin\": 0.1, \"neomycin\": 0.001, \"gram\": \"positive\" },\n",
        "  { \"bacteria\": \"Streptococcus hemolyticus\", \"genus\": \"Streptococcus\", \"penicillin\": 0.001, \"streptomycin\": 14, \"neomycin\": 10, \"gram\": \"positive\" },\n",
        "  { \"bacteria\": \"Streptococcus viridans\", \"genus\": \"Streptococcus\", \"penicillin\": 0.005, \"streptomycin\": 10, \"neomycin\": 40, \"gram\": \"positive\" },\n",
        "  { \"bacteria\": \"Diplococcus pneumoniae\", \"genus\": \"Other\", \"penicillin\": 0.005, \"streptomycin\": 11, \"neomycin\": 10, \"gram\": \"positive\" }\n",
        "]\n",
        "dfabio = pd.DataFrame.from_records(antibiotics)\n",
        "dfabio"
      ]
    },
    {
      "cell_type": "markdown",
      "metadata": {},
      "source": [
        "Make a scatter plot of Pennicilin (y-axis) vs Neomycin (x-axis) concentrations. Color code these via genus. Do you see something interesting concerning Diplococcus vs Streptococcus bacteria?"
      ]
    },
    {
      "cell_type": "code",
      "execution_count": 32,
      "metadata": {},
      "outputs": [],
      "source": [
        "# your code here\n"
      ]
    },
    {
      "cell_type": "code",
      "execution_count": 33,
      "metadata": {},
      "outputs": [],
      "source": [
        "# your code here\n"
      ]
    },
    {
      "cell_type": "markdown",
      "metadata": {},
      "source": [
        "#### "
      ]
    }
  ]
}
